{
 "cells": [
  {
   "cell_type": "markdown",
   "metadata": {},
   "source": [
    "# Introduction"
   ]
  },
  {
   "cell_type": "markdown",
   "metadata": {},
   "source": [
    "In this notebook we are going to try few models to predict how many units of a product will be sold given a price"
   ]
  },
  {
   "cell_type": "markdown",
   "metadata": {},
   "source": [
    "## 1 - Importing the libraries"
   ]
  },
  {
   "cell_type": "code",
   "execution_count": 1,
   "metadata": {},
   "outputs": [],
   "source": [
    "import pandas as pd\n",
    "import numpy as np\n",
    "from sklearn.model_selection import train_test_split\n",
    "from sklearn.linear_model import LinearRegression\n",
    "from sklearn.preprocessing import PolynomialFeatures\n",
    "import operator\n",
    "\n",
    "from sklearn.metrics import mean_squared_error, r2_score\n",
    "import warnings\n",
    "warnings.simplefilter(action='ignore', category='FutureWarning')\n",
    "\n",
    "import matplotlib.pyplot as plt\n",
    "# import pylab\n",
    "\n",
    "path = 'data/'"
   ]
  },
  {
   "cell_type": "markdown",
   "metadata": {},
   "source": [
    "## 1.1 -  Data manipulation"
   ]
  },
  {
   "cell_type": "code",
   "execution_count": 2,
   "metadata": {},
   "outputs": [
    {
     "data": {
      "text/html": [
       "<div>\n",
       "<style scoped>\n",
       "    .dataframe tbody tr th:only-of-type {\n",
       "        vertical-align: middle;\n",
       "    }\n",
       "\n",
       "    .dataframe tbody tr th {\n",
       "        vertical-align: top;\n",
       "    }\n",
       "\n",
       "    .dataframe thead th {\n",
       "        text-align: right;\n",
       "    }\n",
       "</style>\n",
       "<table border=\"1\" class=\"dataframe\">\n",
       "  <thead>\n",
       "    <tr style=\"text-align: right;\">\n",
       "      <th></th>\n",
       "      <th>PROD_ID</th>\n",
       "      <th>DATE_ORDER</th>\n",
       "      <th>QTY_ORDER</th>\n",
       "      <th>REVENUE</th>\n",
       "      <th>UNIT_VALUE</th>\n",
       "      <th>PROD_CAT</th>\n",
       "    </tr>\n",
       "  </thead>\n",
       "  <tbody>\n",
       "    <tr>\n",
       "      <th>0</th>\n",
       "      <td>P6</td>\n",
       "      <td>2015-08-02</td>\n",
       "      <td>1.0</td>\n",
       "      <td>1808.99</td>\n",
       "      <td>1808.99</td>\n",
       "      <td>5</td>\n",
       "    </tr>\n",
       "    <tr>\n",
       "      <th>1</th>\n",
       "      <td>P6</td>\n",
       "      <td>2015-08-17</td>\n",
       "      <td>1.0</td>\n",
       "      <td>1674.00</td>\n",
       "      <td>1674.00</td>\n",
       "      <td>5</td>\n",
       "    </tr>\n",
       "    <tr>\n",
       "      <th>2</th>\n",
       "      <td>P6</td>\n",
       "      <td>2015-08-17</td>\n",
       "      <td>1.0</td>\n",
       "      <td>1673.95</td>\n",
       "      <td>1673.95</td>\n",
       "      <td>5</td>\n",
       "    </tr>\n",
       "    <tr>\n",
       "      <th>3</th>\n",
       "      <td>P6</td>\n",
       "      <td>2015-08-11</td>\n",
       "      <td>1.0</td>\n",
       "      <td>1674.00</td>\n",
       "      <td>1674.00</td>\n",
       "      <td>5</td>\n",
       "    </tr>\n",
       "    <tr>\n",
       "      <th>4</th>\n",
       "      <td>P6</td>\n",
       "      <td>2015-08-17</td>\n",
       "      <td>1.0</td>\n",
       "      <td>1674.00</td>\n",
       "      <td>1674.00</td>\n",
       "      <td>5</td>\n",
       "    </tr>\n",
       "  </tbody>\n",
       "</table>\n",
       "</div>"
      ],
      "text/plain": [
       "  PROD_ID  DATE_ORDER  QTY_ORDER  REVENUE  UNIT_VALUE  PROD_CAT\n",
       "0      P6  2015-08-02        1.0  1808.99     1808.99         5\n",
       "1      P6  2015-08-17        1.0  1674.00     1674.00         5\n",
       "2      P6  2015-08-17        1.0  1673.95     1673.95         5\n",
       "3      P6  2015-08-11        1.0  1674.00     1674.00         5\n",
       "4      P6  2015-08-17        1.0  1674.00     1674.00         5"
      ]
     },
     "execution_count": 2,
     "metadata": {},
     "output_type": "execute_result"
    }
   ],
   "source": [
    "df_sales = pd.read_csv(path + 'sales.csv')\n",
    "df_sales['UNIT_VALUE'] = df_sales['REVENUE']/df_sales['QTY_ORDER']\n",
    "df_sales['PROD_CAT'] = df_sales['PROD_ID'].astype('category').cat.codes\n",
    "df_sales.head()"
   ]
  },
  {
   "cell_type": "code",
   "execution_count": 3,
   "metadata": {},
   "outputs": [],
   "source": [
    "df = df_sales.groupby(by=['PROD_CAT', 'UNIT_VALUE'])[['QTY_ORDER']].sum().reset_index()"
   ]
  },
  {
   "cell_type": "markdown",
   "metadata": {},
   "source": [
    "### We are goint o split the data so we can standarlize the data using the mean and std of the train data."
   ]
  },
  {
   "cell_type": "code",
   "execution_count": 4,
   "metadata": {},
   "outputs": [],
   "source": [
    "test_data_size = 0.2\n",
    "x_train, x_test, y_train, y_test = train_test_split(df[['PROD_CAT','UNIT_VALUE']], df['QTY_ORDER'], test_size=test_data_size, random_state=0)"
   ]
  },
  {
   "cell_type": "markdown",
   "metadata": {},
   "source": [
    "### Standardization"
   ]
  },
  {
   "cell_type": "code",
   "execution_count": 5,
   "metadata": {},
   "outputs": [
    {
     "data": {
      "text/html": [
       "<div>\n",
       "<style scoped>\n",
       "    .dataframe tbody tr th:only-of-type {\n",
       "        vertical-align: middle;\n",
       "    }\n",
       "\n",
       "    .dataframe tbody tr th {\n",
       "        vertical-align: top;\n",
       "    }\n",
       "\n",
       "    .dataframe thead tr th {\n",
       "        text-align: left;\n",
       "    }\n",
       "</style>\n",
       "<table border=\"1\" class=\"dataframe\">\n",
       "  <thead>\n",
       "    <tr>\n",
       "      <th></th>\n",
       "      <th>PROD_CAT</th>\n",
       "      <th colspan=\"2\" halign=\"left\">UNIT_VALUE</th>\n",
       "    </tr>\n",
       "    <tr>\n",
       "      <th></th>\n",
       "      <th></th>\n",
       "      <th>mean</th>\n",
       "      <th>std</th>\n",
       "    </tr>\n",
       "  </thead>\n",
       "  <tbody>\n",
       "    <tr>\n",
       "      <th>0</th>\n",
       "      <td>0</td>\n",
       "      <td>1315.804375</td>\n",
       "      <td>88.772497</td>\n",
       "    </tr>\n",
       "    <tr>\n",
       "      <th>1</th>\n",
       "      <td>1</td>\n",
       "      <td>692.995899</td>\n",
       "      <td>77.214563</td>\n",
       "    </tr>\n",
       "    <tr>\n",
       "      <th>2</th>\n",
       "      <td>2</td>\n",
       "      <td>1294.087544</td>\n",
       "      <td>98.207684</td>\n",
       "    </tr>\n",
       "    <tr>\n",
       "      <th>3</th>\n",
       "      <td>3</td>\n",
       "      <td>493.516094</td>\n",
       "      <td>60.674927</td>\n",
       "    </tr>\n",
       "    <tr>\n",
       "      <th>4</th>\n",
       "      <td>4</td>\n",
       "      <td>845.165450</td>\n",
       "      <td>135.682866</td>\n",
       "    </tr>\n",
       "    <tr>\n",
       "      <th>5</th>\n",
       "      <td>5</td>\n",
       "      <td>1742.089266</td>\n",
       "      <td>170.709032</td>\n",
       "    </tr>\n",
       "    <tr>\n",
       "      <th>6</th>\n",
       "      <td>6</td>\n",
       "      <td>724.339744</td>\n",
       "      <td>85.586910</td>\n",
       "    </tr>\n",
       "    <tr>\n",
       "      <th>7</th>\n",
       "      <td>7</td>\n",
       "      <td>420.274844</td>\n",
       "      <td>51.487658</td>\n",
       "    </tr>\n",
       "    <tr>\n",
       "      <th>8</th>\n",
       "      <td>8</td>\n",
       "      <td>420.450110</td>\n",
       "      <td>56.087834</td>\n",
       "    </tr>\n",
       "  </tbody>\n",
       "</table>\n",
       "</div>"
      ],
      "text/plain": [
       "  PROD_CAT   UNIT_VALUE            \n",
       "                   mean         std\n",
       "0        0  1315.804375   88.772497\n",
       "1        1   692.995899   77.214563\n",
       "2        2  1294.087544   98.207684\n",
       "3        3   493.516094   60.674927\n",
       "4        4   845.165450  135.682866\n",
       "5        5  1742.089266  170.709032\n",
       "6        6   724.339744   85.586910\n",
       "7        7   420.274844   51.487658\n",
       "8        8   420.450110   56.087834"
      ]
     },
     "execution_count": 5,
     "metadata": {},
     "output_type": "execute_result"
    }
   ],
   "source": [
    "z_table = x_train.groupby(['PROD_CAT'], as_index=False).agg({'UNIT_VALUE':['mean','std']}).reset_index(drop=True)\n",
    "z_table"
   ]
  },
  {
   "cell_type": "code",
   "execution_count": 6,
   "metadata": {},
   "outputs": [],
   "source": [
    "def stand(z, product, value):\n",
    "    z_mean = z.loc[z['PROD_CAT'] == product]['UNIT_VALUE']['mean'].values[0]\n",
    "    z_std =  z.loc[z['PROD_CAT'] == product]['UNIT_VALUE']['std'].values[0]\n",
    "    \n",
    "    if z_std == 0:\n",
    "        return value\n",
    "    \n",
    "    return (value-z_mean)/z_std"
   ]
  },
  {
   "cell_type": "code",
   "execution_count": 7,
   "metadata": {},
   "outputs": [],
   "source": [
    "x_train['VALUE_STAND'] = x_train.apply(lambda row: stand(z_table, row['PROD_CAT'], row['UNIT_VALUE']), axis=1)\n",
    "x_test['VALUE_STAND'] = x_test.apply(lambda row: stand(z_table, row['PROD_CAT'], row['UNIT_VALUE']), axis=1)"
   ]
  },
  {
   "cell_type": "code",
   "execution_count": 8,
   "metadata": {},
   "outputs": [],
   "source": [
    "x_train = x_train[['PROD_CAT', 'VALUE_STAND']]\n",
    "x_test = x_test[['PROD_CAT', 'VALUE_STAND']]"
   ]
  },
  {
   "cell_type": "markdown",
   "metadata": {},
   "source": [
    "## 2 - Training Models"
   ]
  },
  {
   "cell_type": "code",
   "execution_count": 9,
   "metadata": {},
   "outputs": [],
   "source": [
    "def train_model(model_name, x_train, y_train, x_test, y_test):\n",
    "    x_train_model = x_train.copy()\n",
    "    x_test_model = x_test.copy()\n",
    "    \n",
    "    \n",
    "    if model_name == 'linear':\n",
    "        model_name = \"Linear Regression\"\n",
    "        model = LinearRegression()\n",
    "        \n",
    "    elif model_name == 'poly_2':\n",
    "        polyformer  = PolynomialFeatures(degree=2, include_bias=True)\n",
    "        x_train_model = polyformer.fit_transform(x_train_model)\n",
    "        x_test_model = polyformer.fit_transform(x_test_model)\n",
    "        model = LinearRegression()\n",
    "\n",
    "    elif model_name == 'poly_3':\n",
    "        polyformer  = PolynomialFeatures(degree=3, include_bias=True)\n",
    "        x_train_model = polyformer.fit_transform(x_train_model)\n",
    "        x_test_model = polyformer.fit_transform(x_test_model)\n",
    "        model = LinearRegression()\n",
    "    \n",
    "        \n",
    "    model.fit(x_train_model , y_train)  \n",
    "    y_train_pred = model.predict(x_train_model)\n",
    "    y_pred = model.predict(x_test_model)\n",
    "\n",
    "    score = model.score(x_test_model, y_test)\n",
    "\n",
    "    mse_train = np.sqrt(mean_squared_error(y_train, y_train_pred))\n",
    "    r2_train = r2_score(y_train, y_train_pred)\n",
    "\n",
    "    mse_test = np.sqrt(mean_squared_error(y_test, y_pred))\n",
    "    r2_test = r2_score(y_test, y_pred)\n",
    "    print(\"Model: {}\".format(model_name))\n",
    "    print(\"Model Score: {}\".format(score))\n",
    "    print(\"\\n\")\n",
    "    print(\"Performace on the training set\")\n",
    "    print(\"Mean squared error: {}\".format(mse_train))\n",
    "    print(\"RS score: {}\".format(r2_train))\n",
    "    print(\"\\n\")\n",
    "    print(\"Performace on the test set\")\n",
    "    print(\"Mean squared error: {}\".format(mse_test))\n",
    "    print(\"RS score: {}\".format(r2_test))\n",
    "    \n",
    "    \n",
    "    x = x_train.loc[x_train[\"PROD_CAT\"] == 1][\"VALUE_STAND\"].tolist()\n",
    "    y = y_train[x_train.loc[x_train[\"PROD_CAT\"] == 1].index].tolist()\n",
    "    y_pred = y_train_pred[x_train.loc[x_train[\"PROD_CAT\"] == 1].index].tolist()\n",
    "    \n",
    "    plt.scatter(x, y, color='red')\n",
    "    sort_axis = operator.itemgetter(0)\n",
    "    sorted_zip = sorted(zip(x,y_pred), key=sort_axis)\n",
    "    x, y_pred = zip(*sorted_zip)\n",
    "    plt.plot(x, y_pred, color='blue')\n",
    "    plt.title('Example on P1 in train set')\n",
    "    plt.xlabel('Unit value (standardized)')\n",
    "    plt.ylabel('Quantity sold')\n",
    "    plt.show()\n",
    "    \n",
    "    \n",
    "    \n",
    "    return model"
   ]
  },
  {
   "cell_type": "code",
   "execution_count": 10,
   "metadata": {},
   "outputs": [
    {
     "name": "stdout",
     "output_type": "stream",
     "text": [
      "Model: Linear Regression\n",
      "Model Score: -0.04925774777656455\n",
      "\n",
      "\n",
      "Performace on the training set\n",
      "Mean squared error: 1974.9997968039688\n",
      "RS score: 0.0007957181796385271\n",
      "\n",
      "\n",
      "Performace on the test set\n",
      "Mean squared error: 459.7547876135844\n",
      "RS score: -0.04925774777656455\n"
     ]
    },
    {
     "data": {
      "image/png": "[encoded data removed]",
      "text/plain": [
       "<matplotlib.figure.Figure at 0x7fef13789eb8>"
      ]
     },
     "metadata": {
      "needs_background": "light"
     },
     "output_type": "display_data"
    },
    {
     "data": {
      "text/plain": [
       "LinearRegression(copy_X=True, fit_intercept=True, n_jobs=None, normalize=False)"
      ]
     },
     "execution_count": 10,
     "metadata": {},
     "output_type": "execute_result"
    }
   ],
   "source": [
    "train_model(\"linear\", x_train, y_train, x_test, y_test)"
   ]
  },
  {
   "cell_type": "code",
   "execution_count": 11,
   "metadata": {},
   "outputs": [
    {
     "name": "stdout",
     "output_type": "stream",
     "text": [
      "Model: poly_2\n",
      "Model Score: -0.07828369381624367\n",
      "\n",
      "\n",
      "Performace on the training set\n",
      "Mean squared error: 1974.2441317361152\n",
      "RS score: 0.0015601935210347584\n",
      "\n",
      "\n",
      "Performace on the test set\n",
      "Mean squared error: 466.07057708204354\n",
      "RS score: -0.07828369381624367\n"
     ]
    },
    {
     "data": {
      "image/png": "[encoded data removed]",
      "text/plain": [
       "<matplotlib.figure.Figure at 0x7feedb48fbe0>"
      ]
     },
     "metadata": {
      "needs_background": "light"
     },
     "output_type": "display_data"
    },
    {
     "data": {
      "text/plain": [
       "LinearRegression(copy_X=True, fit_intercept=True, n_jobs=None, normalize=False)"
      ]
     },
     "execution_count": 11,
     "metadata": {},
     "output_type": "execute_result"
    }
   ],
   "source": [
    "train_model(\"poly_2\", x_train, y_train, x_test, y_test)"
   ]
  },
  {
   "cell_type": "code",
   "execution_count": 12,
   "metadata": {},
   "outputs": [
    {
     "name": "stdout",
     "output_type": "stream",
     "text": [
      "Model: poly_3\n",
      "Model Score: -0.13937748996688293\n",
      "\n",
      "\n",
      "Performace on the training set\n",
      "Mean squared error: 1971.4593022216336\n",
      "RS score: 0.004374965563334943\n",
      "\n",
      "\n",
      "Performace on the test set\n",
      "Mean squared error: 479.09207350628265\n",
      "RS score: -0.13937748996688293\n"
     ]
    },
    {
     "data": {
      "image/png": "[encoded data removed]",
      "text/plain": [
       "<matplotlib.figure.Figure at 0x7feedb3d7a90>"
      ]
     },
     "metadata": {
      "needs_background": "light"
     },
     "output_type": "display_data"
    },
    {
     "data": {
      "text/plain": [
       "LinearRegression(copy_X=True, fit_intercept=True, n_jobs=None, normalize=False)"
      ]
     },
     "execution_count": 12,
     "metadata": {},
     "output_type": "execute_result"
    }
   ],
   "source": [
    "train_model(\"poly_3\", x_train, y_train, x_test, y_test)"
   ]
  },
  {
   "cell_type": "code",
   "execution_count": 14,
   "metadata": {},
   "outputs": [
    {
     "name": "stdout",
     "output_type": "stream",
     "text": [
      "Model: Linear Regression\n",
      "Model Score: -0.04925774777656455\n",
      "\n",
      "\n",
      "Performace on the training set\n",
      "Mean squared error: 1974.9997968039688\n",
      "RS score: 0.0007957181796385271\n",
      "\n",
      "\n",
      "Performace on the test set\n",
      "Mean squared error: 459.7547876135844\n",
      "RS score: -0.04925774777656455\n"
     ]
    },
    {
     "data": {
      "image/png": "[encoded data removed]",
      "text/plain": [
       "<matplotlib.figure.Figure at 0x7feedb394c50>"
      ]
     },
     "metadata": {
      "needs_background": "light"
     },
     "output_type": "display_data"
    }
   ],
   "source": [
    "model_test = train_model(\"linear\", x_train, y_train, x_test, y_test)"
   ]
  },
  {
   "cell_type": "markdown",
   "metadata": {},
   "source": [
    "## 3 -  Saving model and testing result (in progress)"
   ]
  },
  {
   "cell_type": "code",
   "execution_count": 17,
   "metadata": {},
   "outputs": [
    {
     "name": "stdout",
     "output_type": "stream",
     "text": [
      "-0.04925774777656455\n"
     ]
    }
   ],
   "source": [
    "import pickle\n",
    "\n",
    "# save the model\n",
    "filename = 'finalized_model.sav'\n",
    "pickle.dump(model_test, open(filename, 'wb'))\n",
    "\n",
    "# load the model\n",
    "model = pickle.load(open(filename, 'rb'))\n",
    "result = model.score(x_test, y_test)\n",
    "print(result)"
   ]
  },
  {
   "cell_type": "code",
   "execution_count": 18,
   "metadata": {
    "scrolled": true
   },
   "outputs": [],
   "source": [
    "teste = [[1, 100]]\n",
    "teste[0][1] = stand(z_table, 1, 100)\n",
    "\n",
    "#polyformer  = PolynomialFeatures(degree=3, include_bias=True)\n",
    "#poly = polyformer.fit_transform(teste)"
   ]
  },
  {
   "cell_type": "code",
   "execution_count": 19,
   "metadata": {},
   "outputs": [
    {
     "data": {
      "text/plain": [
       "array([-101.94090317])"
      ]
     },
     "execution_count": 19,
     "metadata": {},
     "output_type": "execute_result"
    }
   ],
   "source": [
    "# Use the loaded pickled model to make predictions \n",
    "value = model_test.predict(teste) \n",
    "value"
   ]
  },
  {
   "cell_type": "code",
   "execution_count": 40,
   "metadata": {},
   "outputs": [
    {
     "data": {
      "text/plain": [
       "-7.6628726742044275"
      ]
     },
     "execution_count": 40,
     "metadata": {},
     "output_type": "execute_result"
    }
   ],
   "source": [
    "stand(z1, 1, 100)"
   ]
  },
  {
   "cell_type": "code",
   "execution_count": null,
   "metadata": {},
   "outputs": [],
   "source": []
  },
  {
   "cell_type": "code",
   "execution_count": null,
   "metadata": {},
   "outputs": [],
   "source": []
  },
  {
   "cell_type": "code",
   "execution_count": null,
   "metadata": {},
   "outputs": [],
   "source": []
  }
 ],
 "metadata": {
  "kernelspec": {
   "display_name": "Python 3",
   "language": "python",
   "name": "python3"
  },
  "language_info": {
   "codemirror_mode": {
    "name": "ipython",
    "version": 3
   },
   "file_extension": ".py",
   "mimetype": "text/x-python",
   "name": "python",
   "nbconvert_exporter": "python",
   "pygments_lexer": "ipython3",
   "version": "3.6.8"
  }
 },
 "nbformat": 4,
 "nbformat_minor": 2
}
