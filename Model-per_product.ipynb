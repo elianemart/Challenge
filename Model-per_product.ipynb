{
 "cells": [
  {
   "cell_type": "markdown",
   "metadata": {},
   "source": [
    "# Introduction"
   ]
  },
  {
   "cell_type": "markdown",
   "metadata": {},
   "source": [
    "In this notebook we are going to try few models to predict how many units of a product will be sold given a price"
   ]
  },
  {
   "cell_type": "markdown",
   "metadata": {},
   "source": [
    "## 1 - Importing the libraries"
   ]
  },
  {
   "cell_type": "code",
   "execution_count": 31,
   "metadata": {},
   "outputs": [],
   "source": [
    "import pandas as pd\n",
    "import numpy as np\n",
    "from sklearn.model_selection import train_test_split\n",
    "from sklearn.linear_model import LinearRegression\n",
    "from sklearn.preprocessing import PolynomialFeatures\n",
    "import operator\n",
    "import pickle\n",
    "\n",
    "from sklearn.metrics import mean_squared_error, r2_score\n",
    "import warnings\n",
    "warnings.simplefilter(action='ignore', category='FutureWarning')\n",
    "\n",
    "import matplotlib.pyplot as plt\n",
    "# import pylab\n",
    "\n",
    "path = 'data/'"
   ]
  },
  {
   "cell_type": "markdown",
   "metadata": {},
   "source": [
    "## 2 -  Data manipulation"
   ]
  },
  {
   "cell_type": "code",
   "execution_count": 59,
   "metadata": {},
   "outputs": [
    {
     "data": {
      "text/html": [
       "<div>\n",
       "<style scoped>\n",
       "    .dataframe tbody tr th:only-of-type {\n",
       "        vertical-align: middle;\n",
       "    }\n",
       "\n",
       "    .dataframe tbody tr th {\n",
       "        vertical-align: top;\n",
       "    }\n",
       "\n",
       "    .dataframe thead th {\n",
       "        text-align: right;\n",
       "    }\n",
       "</style>\n",
       "<table border=\"1\" class=\"dataframe\">\n",
       "  <thead>\n",
       "    <tr style=\"text-align: right;\">\n",
       "      <th></th>\n",
       "      <th>PROD_ID</th>\n",
       "      <th>DATE_ORDER</th>\n",
       "      <th>QTY_ORDER</th>\n",
       "      <th>REVENUE</th>\n",
       "      <th>UNIT_VALUE</th>\n",
       "    </tr>\n",
       "  </thead>\n",
       "  <tbody>\n",
       "    <tr>\n",
       "      <th>0</th>\n",
       "      <td>P6</td>\n",
       "      <td>2015-08-02</td>\n",
       "      <td>1.0</td>\n",
       "      <td>1808.99</td>\n",
       "      <td>1808.99</td>\n",
       "    </tr>\n",
       "    <tr>\n",
       "      <th>1</th>\n",
       "      <td>P6</td>\n",
       "      <td>2015-08-17</td>\n",
       "      <td>1.0</td>\n",
       "      <td>1674.00</td>\n",
       "      <td>1674.00</td>\n",
       "    </tr>\n",
       "    <tr>\n",
       "      <th>2</th>\n",
       "      <td>P6</td>\n",
       "      <td>2015-08-17</td>\n",
       "      <td>1.0</td>\n",
       "      <td>1673.95</td>\n",
       "      <td>1673.95</td>\n",
       "    </tr>\n",
       "    <tr>\n",
       "      <th>3</th>\n",
       "      <td>P6</td>\n",
       "      <td>2015-08-11</td>\n",
       "      <td>1.0</td>\n",
       "      <td>1674.00</td>\n",
       "      <td>1674.00</td>\n",
       "    </tr>\n",
       "    <tr>\n",
       "      <th>4</th>\n",
       "      <td>P6</td>\n",
       "      <td>2015-08-17</td>\n",
       "      <td>1.0</td>\n",
       "      <td>1674.00</td>\n",
       "      <td>1674.00</td>\n",
       "    </tr>\n",
       "  </tbody>\n",
       "</table>\n",
       "</div>"
      ],
      "text/plain": [
       "  PROD_ID  DATE_ORDER  QTY_ORDER  REVENUE  UNIT_VALUE\n",
       "0      P6  2015-08-02        1.0  1808.99     1808.99\n",
       "1      P6  2015-08-17        1.0  1674.00     1674.00\n",
       "2      P6  2015-08-17        1.0  1673.95     1673.95\n",
       "3      P6  2015-08-11        1.0  1674.00     1674.00\n",
       "4      P6  2015-08-17        1.0  1674.00     1674.00"
      ]
     },
     "execution_count": 59,
     "metadata": {},
     "output_type": "execute_result"
    }
   ],
   "source": [
    "df_sales = pd.read_csv(path + 'sales.csv')\n",
    "df_sales['UNIT_VALUE'] = df_sales['REVENUE']/df_sales['QTY_ORDER']\n",
    "# df_sales['PROD_CAT'] = df_sales['PROD_ID'].astype('category').cat.codes\n",
    "df_sales.head()"
   ]
  },
  {
   "cell_type": "code",
   "execution_count": 60,
   "metadata": {},
   "outputs": [],
   "source": [
    "df = df_sales.groupby(by=['DATE_ORDER', 'PROD_ID', 'UNIT_VALUE'])[['QTY_ORDER']].sum().reset_index()"
   ]
  },
  {
   "cell_type": "markdown",
   "metadata": {},
   "source": [
    "Let's remove the outliers"
   ]
  },
  {
   "cell_type": "code",
   "execution_count": 61,
   "metadata": {},
   "outputs": [
    {
     "data": {
      "text/html": [
       "<div>\n",
       "<style scoped>\n",
       "    .dataframe tbody tr th:only-of-type {\n",
       "        vertical-align: middle;\n",
       "    }\n",
       "\n",
       "    .dataframe tbody tr th {\n",
       "        vertical-align: top;\n",
       "    }\n",
       "\n",
       "    .dataframe thead th {\n",
       "        text-align: right;\n",
       "    }\n",
       "</style>\n",
       "<table border=\"1\" class=\"dataframe\">\n",
       "  <thead>\n",
       "    <tr style=\"text-align: right;\">\n",
       "      <th></th>\n",
       "      <th>UNIT_VALUE</th>\n",
       "      <th>QTY_ORDER</th>\n",
       "    </tr>\n",
       "  </thead>\n",
       "  <tbody>\n",
       "    <tr>\n",
       "      <th>count</th>\n",
       "      <td>9890.000000</td>\n",
       "      <td>9890.000000</td>\n",
       "    </tr>\n",
       "    <tr>\n",
       "      <th>mean</th>\n",
       "      <td>822.138054</td>\n",
       "      <td>38.298281</td>\n",
       "    </tr>\n",
       "    <tr>\n",
       "      <th>std</th>\n",
       "      <td>392.234913</td>\n",
       "      <td>165.165207</td>\n",
       "    </tr>\n",
       "    <tr>\n",
       "      <th>min</th>\n",
       "      <td>229.000000</td>\n",
       "      <td>1.000000</td>\n",
       "    </tr>\n",
       "    <tr>\n",
       "      <th>25%</th>\n",
       "      <td>548.000000</td>\n",
       "      <td>1.000000</td>\n",
       "    </tr>\n",
       "    <tr>\n",
       "      <th>50%</th>\n",
       "      <td>719.100000</td>\n",
       "      <td>4.000000</td>\n",
       "    </tr>\n",
       "    <tr>\n",
       "      <th>75%</th>\n",
       "      <td>859.900000</td>\n",
       "      <td>13.000000</td>\n",
       "    </tr>\n",
       "    <tr>\n",
       "      <th>max</th>\n",
       "      <td>2599.000000</td>\n",
       "      <td>3978.000000</td>\n",
       "    </tr>\n",
       "  </tbody>\n",
       "</table>\n",
       "</div>"
      ],
      "text/plain": [
       "        UNIT_VALUE    QTY_ORDER\n",
       "count  9890.000000  9890.000000\n",
       "mean    822.138054    38.298281\n",
       "std     392.234913   165.165207\n",
       "min     229.000000     1.000000\n",
       "25%     548.000000     1.000000\n",
       "50%     719.100000     4.000000\n",
       "75%     859.900000    13.000000\n",
       "max    2599.000000  3978.000000"
      ]
     },
     "execution_count": 61,
     "metadata": {},
     "output_type": "execute_result"
    }
   ],
   "source": [
    "df.describe()"
   ]
  },
  {
   "cell_type": "code",
   "execution_count": 62,
   "metadata": {},
   "outputs": [],
   "source": [
    "products = sorted(df_sales[\"PROD_ID\"].unique())"
   ]
  },
  {
   "cell_type": "code",
   "execution_count": 63,
   "metadata": {},
   "outputs": [
    {
     "name": "stdout",
     "output_type": "stream",
     "text": [
      "DF size before change:  9890\n"
     ]
    }
   ],
   "source": [
    "print(\"DF size before change: \", len(df))"
   ]
  },
  {
   "cell_type": "code",
   "execution_count": 64,
   "metadata": {},
   "outputs": [
    {
     "name": "stdout",
     "output_type": "stream",
     "text": [
      "{'P1': 46.0, 'P2': 768.44, 'P3': 38.649999999999864, 'P4': 280.53999999999996, 'P5': 398.1500000000002, 'P6': 48.1599999999994, 'P7': 1483.8999999999983, 'P8': 646.7500000000002, 'P9': 519.2599999999989}\n"
     ]
    }
   ],
   "source": [
    "qty_percentile = {}\n",
    "for prod in products:\n",
    "    data = df.loc[df['PROD_ID'] == prod]['QTY_ORDER']\n",
    "    qty_percentile[prod] = np.percentile(data,99)\n",
    "print(qty_percentile)"
   ]
  },
  {
   "cell_type": "code",
   "execution_count": 65,
   "metadata": {},
   "outputs": [],
   "source": [
    "for prod in products:\n",
    "    df = df.loc[~((df['PROD_ID'] == prod) & (df['QTY_ORDER'] > qty_percentile[prod]))]"
   ]
  },
  {
   "cell_type": "code",
   "execution_count": 66,
   "metadata": {},
   "outputs": [
    {
     "name": "stdout",
     "output_type": "stream",
     "text": [
      "DF size after change:  9788\n"
     ]
    }
   ],
   "source": [
    "print(\"DF size after change: \",len(df))"
   ]
  },
  {
   "cell_type": "markdown",
   "metadata": {},
   "source": [
    "## 3 - Creating the models"
   ]
  },
  {
   "cell_type": "code",
   "execution_count": 85,
   "metadata": {},
   "outputs": [],
   "source": [
    "def create_model(df, prod_cat):\n",
    "    df = df.loc[df['PROD_ID'] == prod]\n",
    "\n",
    "    # Splitting the data\n",
    "    test_data_size = 0.2\n",
    "    x_train, x_test, y_train, y_test = train_test_split(df[['UNIT_VALUE']], df['QTY_ORDER'], test_size=test_data_size, random_state=0)\n",
    "\n",
    "    # Standardization\n",
    "    z_mean = x_train['UNIT_VALUE'].mean()\n",
    "    z_std = x_train['UNIT_VALUE'].std()\n",
    "    \n",
    "    x_train['VALUE_STAND'] = x_train.apply(lambda row: stand(row['UNIT_VALUE']), axis=1)\n",
    "    x_test['VALUE_STAND'] = x_test.apply(lambda row: stand(row['UNIT_VALUE']), axis=1)\n",
    "    x_train = x_train[['VALUE_STAND']]\n",
    "    x_test = x_test[['VALUE_STAND']]\n",
    "    \n",
    "    # Transform data\n",
    "    polyformer  = PolynomialFeatures(degree=2, include_bias=True)\n",
    "    x_train_model = polyformer.fit_transform(x_train)\n",
    "    x_test_model = polyformer.fit_transform(x_test)\n",
    "    model = LinearRegression()\n",
    "    \n",
    "    # Train model\n",
    "    model.fit(x_train_model , y_train)  \n",
    "    y_train_pred = model.predict(x_train_model)\n",
    "    y_pred = model.predict(x_test_model)\n",
    "    \n",
    "    score = model.score(x_test_model, y_test)\n",
    "\n",
    "    mse_train = np.sqrt(mean_squared_error(y_train, y_train_pred))\n",
    "    r2_train = r2_score(y_train, y_train_pred)\n",
    "\n",
    "    mse_test = np.sqrt(mean_squared_error(y_test, y_pred))\n",
    "    r2_test = r2_score(y_test, y_pred)\n",
    "    print(\"Model: {}\".format('Polynomial linear regression'))\n",
    "    print(\"Model Score: {}\".format(score))\n",
    "    print(\"\\n\")\n",
    "    print(\"Performace on the training set\")\n",
    "    print(\"Mean squared error: {}\".format(mse_train))\n",
    "    print(\"RS score: {}\".format(r2_train))\n",
    "    print(\"\\n\")\n",
    "    print(\"Performace on the test set\")\n",
    "    print(\"Mean squared error: {}\".format(mse_test))\n",
    "    print(\"RS score: {}\".format(r2_test))\n",
    "    \n",
    "    return model, z_mean, z_std"
   ]
  },
  {
   "cell_type": "code",
   "execution_count": 68,
   "metadata": {},
   "outputs": [
    {
     "name": "stdout",
     "output_type": "stream",
     "text": [
      "Model: Polynomial linear regression\n",
      "Model Score: 0.026493026579735734\n",
      "\n",
      "\n",
      "Performace on the training set\n",
      "Mean squared error: 46.73870009092017\n",
      "RS score: 0.020251038505376018\n",
      "\n",
      "\n",
      "Performace on the test set\n",
      "Mean squared error: 45.71437053005557\n",
      "RS score: 0.026493026579735734\n"
     ]
    }
   ],
   "source": [
    "model, z_mean, z_std = create_model(df, 'P1')"
   ]
  },
  {
   "cell_type": "code",
   "execution_count": 69,
   "metadata": {},
   "outputs": [
    {
     "name": "stdout",
     "output_type": "stream",
     "text": [
      "Model: Polynomial linear regression\n",
      "Model Score: 0.026493026579736175\n",
      "\n",
      "\n",
      "Performace on the training set\n",
      "Mean squared error: 46.73870009092017\n",
      "RS score: 0.020251038505376018\n",
      "\n",
      "\n",
      "Performace on the test set\n",
      "Mean squared error: 45.714370530055554\n",
      "RS score: 0.02649302657973618\n"
     ]
    }
   ],
   "source": [
    "model, z_mean, z_std = create_model(df, 'P2')"
   ]
  },
  {
   "cell_type": "code",
   "execution_count": 57,
   "metadata": {},
   "outputs": [
    {
     "data": {
      "text/plain": [
       "array([8.52267231])"
      ]
     },
     "execution_count": 57,
     "metadata": {},
     "output_type": "execute_result"
    }
   ],
   "source": [
    "teste = [[1]]\n",
    "polyformer  = PolynomialFeatures(degree=2, include_bias=True)\n",
    "x_test_model = polyformer.fit_transform(teste)\n",
    "x_test_model.shape\n",
    "\n",
    "model.predict(x_test_model)"
   ]
  },
  {
   "cell_type": "markdown",
   "metadata": {},
   "source": [
    "## 4 -  Saving model"
   ]
  },
  {
   "cell_type": "code",
   "execution_count": 79,
   "metadata": {},
   "outputs": [
    {
     "data": {
      "text/html": [
       "<div>\n",
       "<style scoped>\n",
       "    .dataframe tbody tr th:only-of-type {\n",
       "        vertical-align: middle;\n",
       "    }\n",
       "\n",
       "    .dataframe tbody tr th {\n",
       "        vertical-align: top;\n",
       "    }\n",
       "\n",
       "    .dataframe thead tr th {\n",
       "        text-align: left;\n",
       "    }\n",
       "</style>\n",
       "<table border=\"1\" class=\"dataframe\">\n",
       "  <thead>\n",
       "    <tr>\n",
       "      <th></th>\n",
       "      <th>PROD_ID</th>\n",
       "      <th>MEAN</th>\n",
       "      <th>STD</th>\n",
       "    </tr>\n",
       "  </thead>\n",
       "  <tbody>\n",
       "  </tbody>\n",
       "</table>\n",
       "</div>"
      ],
      "text/plain": [
       "Empty DataFrame\n",
       "Columns: [(PROD_ID,), (MEAN,), (STD,)]\n",
       "Index: []"
      ]
     },
     "execution_count": 79,
     "metadata": {},
     "output_type": "execute_result"
    }
   ],
   "source": [
    "z_scores = pd.DataFrame(columns=[['PROD_ID', 'MEAN', 'STD']])\n",
    "z_scores"
   ]
  },
  {
   "cell_type": "code",
   "execution_count": 80,
   "metadata": {},
   "outputs": [
    {
     "name": "stdout",
     "output_type": "stream",
     "text": [
      "Model: Polynomial linear regression\n",
      "Model Score: 0.06949321231933914\n",
      "\n",
      "\n",
      "Performace on the training set\n",
      "Mean squared error: 7.9975561591715\n",
      "RS score: 0.06667363959577954\n",
      "\n",
      "\n",
      "Performace on the test set\n",
      "Mean squared error: 8.20658306981184\n",
      "RS score: 0.06949321231933914\n",
      "Model: Polynomial linear regression\n",
      "Model Score: 0.010166278806196027\n",
      "\n",
      "\n",
      "Performace on the training set\n",
      "Mean squared error: 64.93039683427185\n",
      "RS score: 0.003880943663556735\n",
      "\n",
      "\n",
      "Performace on the test set\n",
      "Mean squared error: 68.1426509887581\n",
      "RS score: 0.010166278806196027\n",
      "Model: Polynomial linear regression\n",
      "Model Score: 0.06250966631797483\n",
      "\n",
      "\n",
      "Performace on the training set\n",
      "Mean squared error: 5.123279090857451\n",
      "RS score: 0.06658234248982142\n",
      "\n",
      "\n",
      "Performace on the test set\n",
      "Mean squared error: 4.326502264536097\n",
      "RS score: 0.06250966631797483\n",
      "Model: Polynomial linear regression\n",
      "Model Score: -0.009466458376125919\n",
      "\n",
      "\n",
      "Performace on the training set\n",
      "Mean squared error: 36.204516034961735\n",
      "RS score: 0.009534339137095116\n",
      "\n",
      "\n",
      "Performace on the test set\n",
      "Mean squared error: 47.07091662506984\n",
      "RS score: -0.009466458376125919\n",
      "Model: Polynomial linear regression\n",
      "Model Score: 0.03787854016683734\n",
      "\n",
      "\n",
      "Performace on the training set\n",
      "Mean squared error: 58.090008351673475\n",
      "RS score: 0.03749282295186762\n",
      "\n",
      "\n",
      "Performace on the test set\n",
      "Mean squared error: 56.158539928359225\n",
      "RS score: 0.03787854016683734\n",
      "Model: Polynomial linear regression\n",
      "Model Score: 0.027312216319148038\n",
      "\n",
      "\n",
      "Performace on the training set\n",
      "Mean squared error: 3.8824037995662053\n",
      "RS score: 0.03179474134582261\n",
      "\n",
      "\n",
      "Performace on the test set\n",
      "Mean squared error: 4.236018499801185\n",
      "RS score: 0.02731221631914804\n",
      "Model: Polynomial linear regression\n",
      "Model Score: 0.02375488128419212\n",
      "\n",
      "\n",
      "Performace on the training set\n",
      "Mean squared error: 168.55153707451115\n",
      "RS score: 0.021342562678092536\n",
      "\n",
      "\n",
      "Performace on the test set\n",
      "Mean squared error: 162.48836953913423\n",
      "RS score: 0.02375488128419212\n",
      "Model: Polynomial linear regression\n",
      "Model Score: 0.01468255251137851\n",
      "\n",
      "\n",
      "Performace on the training set\n",
      "Mean squared error: 42.793519803876265\n",
      "RS score: 0.013806892013668248\n",
      "\n",
      "\n",
      "Performace on the test set\n",
      "Mean squared error: 57.60168542490597\n",
      "RS score: 0.01468255251137851\n",
      "Model: Polynomial linear regression\n",
      "Model Score: 0.026493026579736175\n",
      "\n",
      "\n",
      "Performace on the training set\n",
      "Mean squared error: 46.73870009092017\n",
      "RS score: 0.020251038505376018\n",
      "\n",
      "\n",
      "Performace on the test set\n",
      "Mean squared error: 45.714370530055554\n",
      "RS score: 0.02649302657973618\n"
     ]
    }
   ],
   "source": [
    "# save the model\n",
    "for prod in products:\n",
    "    filename = 'trained_model_{}.sav'.format(prod)\n",
    "    model, z_mean, z_std = create_model(df, prod)\n",
    "    pickle.dump(model, open(filename, 'wb'))\n",
    "    z_scores.loc[len(z_scores)] = [prod, z_mean, z_std]\n",
    "\n",
    "# load the model\n",
    "# model = pickle.load(open(filename, 'rb'))"
   ]
  },
  {
   "cell_type": "code",
   "execution_count": 84,
   "metadata": {},
   "outputs": [
    {
     "name": "stdout",
     "output_type": "stream",
     "text": [
      "  PROD_ID         MEAN         STD\n",
      "0      P1  1417.677429   87.583247\n",
      "1      P2   713.876863   79.946288\n",
      "2      P3  1300.186243  115.602554\n",
      "3      P4   504.974353   54.222466\n",
      "4      P5   813.295453  131.287904\n",
      "5      P6  1757.779065  191.944093\n",
      "6      P7   744.071136   75.508464\n",
      "7      P8   444.339749   61.367843\n",
      "8      P9   443.214940   64.258734\n"
     ]
    }
   ],
   "source": [
    "print(z_scores)\n",
    "z_scores.to_csv(\"z_table.csv\", index=False)"
   ]
  },
  {
   "cell_type": "code",
   "execution_count": 95,
   "metadata": {},
   "outputs": [],
   "source": [
    "prod = 'P1'\n",
    "df = df.loc[df['PROD_ID'] == prod]\n",
    "\n",
    "# Splitting the data\n",
    "test_data_size = 0.2\n",
    "x_train, x_test, y_train, y_test = train_test_split(df[['UNIT_VALUE']], df['QTY_ORDER'], test_size=test_data_size, random_state=0)\n",
    "\n",
    "# Standardization\n",
    "z_mean = x_train['UNIT_VALUE'].mean()\n",
    "z_std = x_train['UNIT_VALUE'].std()\n",
    "\n",
    "x_train['VALUE_STAND'] = x_train.apply(lambda row: stand(row['UNIT_VALUE']), axis=1)\n",
    "x_test['VALUE_STAND'] = x_test.apply(lambda row: stand(row['UNIT_VALUE']), axis=1)\n",
    "x_train = x_train[['VALUE_STAND']]\n",
    "x_test = x_test[['VALUE_STAND']]\n",
    "\n",
    "# Transform data\n",
    "polyformer  = PolynomialFeatures(degree=2, include_bias=True)\n",
    "x_train_model = polyformer.fit_transform(x_train)\n",
    "x_test_model = polyformer.fit_transform(x_test)\n",
    "model = LinearRegression()\n",
    "\n",
    "# Train model\n",
    "model.fit(x_train_model , y_train)  \n",
    "y_train_pred = model.predict(x_train_model)\n",
    "y_pred = model.predict(x_test_model)\n"
   ]
  }
 ],
 "metadata": {
  "kernelspec": {
   "display_name": "Python 3",
   "language": "python",
   "name": "python3"
  },
  "language_info": {
   "codemirror_mode": {
    "name": "ipython",
    "version": 3
   },
   "file_extension": ".py",
   "mimetype": "text/x-python",
   "name": "python",
   "nbconvert_exporter": "python",
   "pygments_lexer": "ipython3",
   "version": "3.6.8"
  }
 },
 "nbformat": 4,
 "nbformat_minor": 2
}
